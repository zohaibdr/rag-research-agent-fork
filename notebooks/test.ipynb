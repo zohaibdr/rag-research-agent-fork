{
 "cells": [
  {
   "cell_type": "code",
   "execution_count": 1,
   "id": "497f7dab",
   "metadata": {},
   "outputs": [],
   "source": [
    "from prettyprinter import pprint"
   ]
  },
  {
   "cell_type": "code",
   "execution_count": 2,
   "id": "9ab0047c",
   "metadata": {},
   "outputs": [
    {
     "name": "stdout",
     "output_type": "stream",
     "text": [
      "Current working directory: d:\\SYNEREPOS\\rag-research-agent-fork\\notebooks\n",
      "Python executable: d:\\SYNEREPOS\\.venv\\Scripts\\python.exe\n",
      "'3.13.3 (tags/v3.13.3:6280bb5, Apr  8 2025, 14:47:33) [MSC v.1943 64 '\n",
      "'bit (AMD64)]'\n",
      "Python path: ['C:\\\\Users\\\\zohai\\\\AppData\\\\Local\\\\Programs\\\\Python\\\\Python313\\\\python313.zip', 'C:\\\\Users\\\\zohai\\\\AppData\\\\Local\\\\Programs\\\\Python\\\\Python313\\\\DLLs', 'C:\\\\Users\\\\zohai\\\\AppData\\\\Local\\\\Programs\\\\Python\\\\Python313\\\\Lib', 'C:\\\\Users\\\\zohai\\\\AppData\\\\Local\\\\Programs\\\\Python\\\\Python313', 'd:\\\\SYNEREPOS\\\\.venv', '', 'd:\\\\SYNEREPOS\\\\.venv\\\\Lib\\\\site-packages', '__editable__.retrieval_graph-0.0.1.finder.__path_hook__', 'd:\\\\SYNEREPOS\\\\.venv\\\\Lib\\\\site-packages\\\\win32', 'd:\\\\SYNEREPOS\\\\.venv\\\\Lib\\\\site-packages\\\\win32\\\\lib', 'd:\\\\SYNEREPOS\\\\.venv\\\\Lib\\\\site-packages\\\\Pythonwin', 'd:\\\\SYNEREPOS\\\\rag-research-agent-fork\\\\src']\n"
     ]
    }
   ],
   "source": [
    "## add src folder to path\n",
    "import sys\n",
    "import os\n",
    "sys.path.append(os.path.abspath(os.path.join(os.getcwd(), '..', 'src')))\n",
    "\n",
    "# print paths \n",
    "print(\"Current working directory:\", os.getcwd())\n",
    "print(\"Python executable:\", sys.executable)\n",
    "pprint(sys.version, width=80, indent=4)\n",
    "print(\"Python path:\", sys.path) "
   ]
  },
  {
   "cell_type": "code",
   "execution_count": 3,
   "id": "cf971406",
   "metadata": {},
   "outputs": [],
   "source": [
    "from langgraph.graph import END, START, StateGraph"
   ]
  },
  {
   "cell_type": "code",
   "execution_count": 4,
   "id": "9a9a591a",
   "metadata": {},
   "outputs": [
    {
     "name": "stdout",
     "output_type": "stream",
     "text": [
      "RetrievalGraph\n"
     ]
    }
   ],
   "source": [
    "from retrieval_graph.graph import graph\n",
    "\n",
    "mygraph = graph \n",
    "print(mygraph.name)"
   ]
  },
  {
   "cell_type": "code",
   "execution_count": 5,
   "id": "df16779d",
   "metadata": {},
   "outputs": [],
   "source": [
    "# from IPython.display import Image, display\n",
    "\n",
    "# display(Image(mygraph.get_graph(xray=True).draw_mermaid_png()))\n"
   ]
  },
  {
   "cell_type": "code",
   "execution_count": 9,
   "id": "b2c7c16e",
   "metadata": {},
   "outputs": [],
   "source": [
    "inputs = {\n",
    "    \"messages\": [\n",
    "        (\"user\", \"What does Lilian Weng say about the types of agent memory?\"),\n",
    "    ]\n",
    "}\n"
   ]
  },
  {
   "cell_type": "markdown",
   "id": "fc43b52a",
   "metadata": {},
   "source": [
    "Use langgraph server (optional)"
   ]
  },
  {
   "cell_type": "code",
   "execution_count": 7,
   "id": "00349a03",
   "metadata": {},
   "outputs": [],
   "source": [
    "# https://langchain-ai.github.io/langgraph/tutorials/langgraph-platform/local-server/#launch-langgraph-server"
   ]
  },
  {
   "cell_type": "code",
   "execution_count": 9,
   "id": "85f3ba0d",
   "metadata": {},
   "outputs": [],
   "source": [
    "# from langgraph_sdk import get_client\n",
    "\n",
    "# client = get_client(url=\"http://localhost:2024\")\n",
    "\n",
    "# async for chunk in client.runs.stream(\n",
    "#     None,  # Threadless run\n",
    "#     \"agent\", # Name of assistant. Defined in langgraph.json.\n",
    "#     input={\n",
    "#         \"messages\": [{\n",
    "#             \"role\": \"human\",\n",
    "#             \"content\": \"What is LangGraph?\",\n",
    "#         }],\n",
    "#     },\n",
    "#     stream_mode=\"updates\",\n",
    "# ):\n",
    "#     print(f\"Receiving new event of type: {chunk.event}...\")\n",
    "#     print(chunk.data)\n",
    "#     print(\"\\n\\n\") "
   ]
  }
 ],
 "metadata": {
  "kernelspec": {
   "display_name": ".venv",
   "language": "python",
   "name": "python3"
  },
  "language_info": {
   "codemirror_mode": {
    "name": "ipython",
    "version": 3
   },
   "file_extension": ".py",
   "mimetype": "text/x-python",
   "name": "python",
   "nbconvert_exporter": "python",
   "pygments_lexer": "ipython3",
   "version": "3.13.3"
  }
 },
 "nbformat": 4,
 "nbformat_minor": 5
}
