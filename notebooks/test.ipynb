{
 "cells": [
  {
   "cell_type": "code",
   "execution_count": 1,
   "id": "497f7dab",
   "metadata": {},
   "outputs": [
    {
     "data": {
      "text/plain": [
       "True"
      ]
     },
     "execution_count": 1,
     "metadata": {},
     "output_type": "execute_result"
    }
   ],
   "source": [
    "from prettyprinter import pprint\n",
    "from dotenv import load_dotenv, find_dotenv\n",
    "\n",
    "load_dotenv(find_dotenv())"
   ]
  },
  {
   "cell_type": "code",
   "execution_count": 2,
   "id": "9ab0047c",
   "metadata": {},
   "outputs": [
    {
     "name": "stdout",
     "output_type": "stream",
     "text": [
      "Current working directory: d:\\SYNEREPOS\\rag-research-agent-fork\\notebooks\n",
      "Python executable: d:\\SYNEREPOS\\.venv\\Scripts\\python.exe\n",
      "'3.13.3 (tags/v3.13.3:6280bb5, Apr  8 2025, 14:47:33) [MSC v.1943 64 '\n",
      "'bit (AMD64)]'\n",
      "Python path: ['C:\\\\Users\\\\zohai\\\\AppData\\\\Local\\\\Programs\\\\Python\\\\Python313\\\\python313.zip', 'C:\\\\Users\\\\zohai\\\\AppData\\\\Local\\\\Programs\\\\Python\\\\Python313\\\\DLLs', 'C:\\\\Users\\\\zohai\\\\AppData\\\\Local\\\\Programs\\\\Python\\\\Python313\\\\Lib', 'C:\\\\Users\\\\zohai\\\\AppData\\\\Local\\\\Programs\\\\Python\\\\Python313', 'd:\\\\SYNEREPOS\\\\.venv', '', 'd:\\\\SYNEREPOS\\\\.venv\\\\Lib\\\\site-packages', '__editable__.retrieval_graph-0.0.1.finder.__path_hook__', 'd:\\\\SYNEREPOS\\\\.venv\\\\Lib\\\\site-packages\\\\win32', 'd:\\\\SYNEREPOS\\\\.venv\\\\Lib\\\\site-packages\\\\win32\\\\lib', 'd:\\\\SYNEREPOS\\\\.venv\\\\Lib\\\\site-packages\\\\Pythonwin', 'd:\\\\SYNEREPOS\\\\rag-research-agent-fork\\\\src']\n"
     ]
    }
   ],
   "source": [
    "## add src folder to path\n",
    "import sys\n",
    "import os\n",
    "sys.path.append(os.path.abspath(os.path.join(os.getcwd(), '..', 'src')))\n",
    "\n",
    "# print paths \n",
    "print(\"Current working directory:\", os.getcwd())\n",
    "print(\"Python executable:\", sys.executable)\n",
    "pprint(sys.version, width=80, indent=4)\n",
    "print(\"Python path:\", sys.path) "
   ]
  },
  {
   "cell_type": "markdown",
   "id": "25f23e31",
   "metadata": {},
   "source": [
    "Create a faiss index for testing "
   ]
  },
  {
   "cell_type": "code",
   "execution_count": 14,
   "id": "68660e3a",
   "metadata": {},
   "outputs": [],
   "source": [
    "from langchain_openai import AzureOpenAIEmbeddings\n",
    "model = \"text-embedding-ada-002\" \n",
    "openai_api_version = os.environ[\"OPENAI_API_VERSION\"]\n",
    "\n",
    "embedding_function = AzureOpenAIEmbeddings(\n",
    "    openai_api_key = os.environ[\"AZURE_OPENAI_API_KEY\"],\n",
    "    azure_endpoint = os.environ[\"AZURE_EMBEDDINGS_ENDPOINT\"],\n",
    "    model = model,\n",
    "    chunk_size = 16,\n",
    "    max_retries = 3,\n",
    "    show_progress_bar = True,\n",
    "    )"
   ]
  },
  {
   "cell_type": "code",
   "execution_count": 15,
   "id": "bf5d1075",
   "metadata": {},
   "outputs": [
    {
     "name": "stderr",
     "output_type": "stream",
     "text": [
      "  0%|          | 0/2 [00:00<?, ?it/s]"
     ]
    },
    {
     "name": "stderr",
     "output_type": "stream",
     "text": [
      "100%|██████████| 2/2 [00:01<00:00,  1.44it/s]\n"
     ]
    }
   ],
   "source": [
    "from langchain_community.vectorstores import FAISS\n",
    "import faiss\n",
    "from langchain_community.vectorstores import DistanceStrategy\n",
    "from langchain_community.docstore import InMemoryDocstore\n",
    "\n",
    "index = faiss.IndexFlatIP(1536)\n",
    "\n",
    "vstore = FAISS(\n",
    "    index=index,\n",
    "    embedding_function=embedding_function,\n",
    "    docstore = InMemoryDocstore(), \n",
    "    index_to_docstore_id = {}, \n",
    "    distance_strategy = \"DistanceStrategy.MAX_INNER_PRODUCT\", \n",
    ")\n",
    "\n",
    "# load json file data \n",
    "import json\n",
    "with open(\"sample_docs.json\", \"r\") as f:\n",
    "    data = json.load(f)\n",
    "\n",
    "from langchain_core.documents import Document\n",
    "documents  = [Document(page_content=d[\"page_content\"], metadata=d[\"metadata\"]) for d in data]\n",
    "\n",
    "vstore.add_documents(documents)\n",
    "vstore.save_local(\"faiss_index\")"
   ]
  },
  {
   "cell_type": "code",
   "execution_count": 16,
   "id": "df16779d",
   "metadata": {},
   "outputs": [],
   "source": [
    "# from IPython.display import Image, display\n",
    "\n",
    "# display(Image(mygraph.get_graph(xray=True).draw_mermaid_png()))\n"
   ]
  },
  {
   "cell_type": "markdown",
   "id": "fc43b52a",
   "metadata": {},
   "source": [
    "Use langgraph server (optional)"
   ]
  },
  {
   "cell_type": "code",
   "execution_count": 18,
   "id": "00349a03",
   "metadata": {},
   "outputs": [],
   "source": [
    "# https://langchain-ai.github.io/langgraph/tutorials/langgraph-platform/local-server/#launch-langgraph-server"
   ]
  },
  {
   "cell_type": "code",
   "execution_count": 19,
   "id": "85f3ba0d",
   "metadata": {},
   "outputs": [],
   "source": [
    "# from langgraph_sdk import get_client\n",
    "\n",
    "# client = get_client(url=\"http://localhost:2024\")\n",
    "\n",
    "# async for chunk in client.runs.stream(\n",
    "#     None,  # Threadless run\n",
    "#     \"agent\", # Name of assistant. Defined in langgraph.json.\n",
    "#     input={\n",
    "#         \"messages\": [{\n",
    "#             \"role\": \"human\",\n",
    "#             \"content\": \"What is LangGraph?\",\n",
    "#         }],\n",
    "#     },\n",
    "#     stream_mode=\"updates\",\n",
    "# ):\n",
    "#     print(f\"Receiving new event of type: {chunk.event}...\")\n",
    "#     print(chunk.data)\n",
    "#     print(\"\\n\\n\") "
   ]
  }
 ],
 "metadata": {
  "kernelspec": {
   "display_name": ".venv",
   "language": "python",
   "name": "python3"
  },
  "language_info": {
   "codemirror_mode": {
    "name": "ipython",
    "version": 3
   },
   "file_extension": ".py",
   "mimetype": "text/x-python",
   "name": "python",
   "nbconvert_exporter": "python",
   "pygments_lexer": "ipython3",
   "version": "3.13.3"
  }
 },
 "nbformat": 4,
 "nbformat_minor": 5
}
